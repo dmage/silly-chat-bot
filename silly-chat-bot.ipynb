{
 "cells": [
  {
   "cell_type": "code",
   "execution_count": 1,
   "id": "c136190e",
   "metadata": {},
   "outputs": [],
   "source": [
    "# !pip install -r requirements.txt"
   ]
  },
  {
   "cell_type": "code",
   "execution_count": 2,
   "id": "81c73aad",
   "metadata": {},
   "outputs": [],
   "source": [
    "import os\n",
    "import re\n",
    "from typing import Iterable, Literal\n",
    "\n",
    "import requests\n",
    "from bs4 import BeautifulSoup, NavigableString, PageElement, Tag\n",
    "from haystack.document_stores import InMemoryDocumentStore\n",
    "from haystack.nodes import EmbeddingRetriever\n",
    "from haystack.utils import convert_files_to_docs"
   ]
  },
  {
   "cell_type": "markdown",
   "id": "ed0e4762",
   "metadata": {},
   "source": [
    "# html2text\n",
    "\n",
    "A helper function that can convert a page element from Beautiful Soup 4 to text."
   ]
  },
  {
   "cell_type": "code",
   "execution_count": 3,
   "id": "74cf1975",
   "metadata": {},
   "outputs": [],
   "source": [
    "Mode = Literal[\"block\", \"line\", \"pre\"]\n",
    "Delimiter = Literal[\"\", \" \", \" - \", \"\\n\", \"\\n\\n\"]\n",
    "\n",
    "spaces_re = re.compile(r\"\\s+\")\n",
    "\n",
    "\n",
    "def max_delimiter(a: Delimiter, b: Delimiter) -> Delimiter:\n",
    "    delimiters: list[Delimiter] = [\"\\n\\n\", \"\\n\", \" - \", \" \"]\n",
    "    for d in delimiters:\n",
    "        if a == d or b == d:\n",
    "            return d\n",
    "    return \"\"\n",
    "\n",
    "\n",
    "def _element_to_text(content: PageElement, *, mode: Mode = \"block\") -> tuple[Delimiter, str, Delimiter]:\n",
    "    if isinstance(content, NavigableString):\n",
    "        s = str(content)\n",
    "        if mode == \"pre\":\n",
    "            return \"\", s, \"\"\n",
    "        s = spaces_re.sub(\" \", s)\n",
    "        prefix = \"\"\n",
    "        if s.startswith(\" \"):\n",
    "            prefix = \" \"\n",
    "            s = s[1:]\n",
    "        suffix = \"\"\n",
    "        if s.endswith(\" \"):\n",
    "            suffix = \" \"\n",
    "            s = s[:-1]\n",
    "        return prefix, s, suffix\n",
    "    if isinstance(content, Tag):\n",
    "        if content.name in (\"div\", \"p\", \"table\"):\n",
    "            _, text, _ = _elements_to_text(content.children, mode=mode)\n",
    "            return \"\\n\\n\", text, \"\\n\\n\"\n",
    "        if content.name in (\"h1\", \"h2\", \"h3\", \"h4\", \"h5\", \"h6\"):\n",
    "            _, text, _ = _elements_to_text(content.children, mode=\"line\")\n",
    "            text = \"#\" * int(content.name[1]) + \" \" + text\n",
    "            return \"\\n\\n\", text, \"\\n\\n\"\n",
    "        if content.name == \"ul\":\n",
    "            _, text, _ = _elements_to_text(content.children, mode=mode)\n",
    "            return \"\\n\\n\", text, \"\\n\\n\"\n",
    "        if content.name == \"pre\":\n",
    "            _, text, _ = _elements_to_text(content.children, mode=\"pre\" if mode != \"line\" else \"line\")\n",
    "            return \"\\n\\n\", text, \"\\n\\n\"\n",
    "        if content.name == \"li\":\n",
    "            _, text, _ = _elements_to_text(content.children, mode=\"line\")\n",
    "            text = \" *  \" + text\n",
    "            return \"\\n\", text, \"\\n\"\n",
    "        if content.name == \"tbody\":\n",
    "            _, text, _ = _elements_to_text(content.children, mode=mode)\n",
    "            return \"\\n\\n\", text, \"\\n\\n\"\n",
    "        if content.name == \"tr\":\n",
    "            _, text, _ = _elements_to_text(content.children, mode=\"line\")\n",
    "            return \"\\n\\n\", text, \"\\n\\n\"\n",
    "        if content.name in (\"td\", \"th\"):\n",
    "            _, text, _ = _elements_to_text(content.children, mode=\"line\")\n",
    "            return \" - \", text, \" - \"\n",
    "        return _elements_to_text(content.children, mode=mode)\n",
    "    raise NotImplementedError(f\"Cannot convert {type(content)} to text\")\n",
    "\n",
    "\n",
    "def _elements_to_text(children: Iterable[PageElement], *, mode: Mode) -> tuple[Delimiter, str, Delimiter]:\n",
    "    prefix: Delimiter = \"\"\n",
    "    text = \"\"\n",
    "\n",
    "    delim: Delimiter = \"\"\n",
    "    for child in children:\n",
    "        child_prefix, child_text, child_suffix = _element_to_text(child, mode=mode)\n",
    "        if mode == \"line\" and \"\\n\" in child_prefix:\n",
    "            child_prefix = \" \"\n",
    "        if mode == \"line\" and \"\\n\" in child_suffix:\n",
    "            child_suffix = \" \"\n",
    "        delim = max_delimiter(delim, child_prefix)\n",
    "        if not child_text:\n",
    "            delim = max_delimiter(delim, child_suffix)\n",
    "            continue\n",
    "        if text == \"\":\n",
    "            prefix = delim\n",
    "        else:\n",
    "            text += delim\n",
    "        text += child_text\n",
    "        delim = child_suffix\n",
    "    return prefix, text, delim\n",
    "\n",
    "\n",
    "def html2text(content: PageElement) -> str:\n",
    "    _, text, _ = _element_to_text(content)\n",
    "    return text"
   ]
  },
  {
   "cell_type": "markdown",
   "id": "2413b860",
   "metadata": {},
   "source": [
    "# Download docs and create .txt files in ./data"
   ]
  },
  {
   "cell_type": "code",
   "execution_count": 4,
   "id": "9938d7cc",
   "metadata": {},
   "outputs": [],
   "source": [
    "os.makedirs(\"./data\", exist_ok=True)\n",
    "\n",
    "for name in (\n",
    "    \"deploy_quay_on_openshift_op_tng\",\n",
    "    \"deploy_quay\",\n",
    "    \"deploy_quay_ha\",\n",
    "    \"config_quay\",\n",
    "    \"manage_quay\",\n",
    "    \"upgrade_quay\",\n",
    "    \"use_quay\",\n",
    "    \"api_quay\",\n",
    "):\n",
    "    r = requests.get(f\"https://docs.projectquay.io/{name}.html\")\n",
    "    r.raise_for_status()\n",
    "    soup = BeautifulSoup(r.text, features=\"html.parser\")\n",
    "    content = soup.find(id=\"content\")\n",
    "    assert content is not None\n",
    "    text = html2text(content)\n",
    "    with open(f\"./data/{name}.txt\", \"w\") as f:\n",
    "        f.write(text)"
   ]
  },
  {
   "cell_type": "markdown",
   "id": "d29cd473",
   "metadata": {},
   "source": [
    "# Document Store"
   ]
  },
  {
   "cell_type": "code",
   "execution_count": 5,
   "id": "8e4fcc98",
   "metadata": {},
   "outputs": [
    {
     "name": "stderr",
     "output_type": "stream",
     "text": [
      "/Users/obulatov/.local/share/ve-data/lib/python3.10/site-packages/torch/_utils.py:776: UserWarning: TypedStorage is deprecated. It will be removed in the future and UntypedStorage will be the only storage class. This should only matter to you if you are using storages directly.  To access UntypedStorage directly, use tensor.untyped_storage() instead of tensor.storage()\n",
      "  return self.fget.__get__(instance, owner)()\n"
     ]
    },
    {
     "data": {
      "application/vnd.jupyter.widget-view+json": {
       "model_id": "45eec09dcec1488a9acd5971a7d4234d",
       "version_major": 2,
       "version_minor": 0
      },
      "text/plain": [
       "Updating Embedding:   0%|          | 0/3273 [00:00<?, ? docs/s]"
      ]
     },
     "metadata": {},
     "output_type": "display_data"
    },
    {
     "data": {
      "application/vnd.jupyter.widget-view+json": {
       "model_id": "7d276503f840446b821341fe69b722d0",
       "version_major": 2,
       "version_minor": 0
      },
      "text/plain": [
       "Batches:   0%|          | 0/103 [00:00<?, ?it/s]"
      ]
     },
     "metadata": {},
     "output_type": "display_data"
    }
   ],
   "source": [
    "documents = convert_files_to_docs(dir_path=\"./data\", split_paragraphs=True)\n",
    "\n",
    "document_store = InMemoryDocumentStore()\n",
    "document_store.write_documents(documents)\n",
    "\n",
    "retriever = EmbeddingRetriever(\n",
    "    document_store=document_store,\n",
    "    embedding_model=\"sentence-transformers/multi-qa-mpnet-base-dot-v1\",\n",
    ")\n",
    "document_store.update_embeddings(retriever)"
   ]
  },
  {
   "cell_type": "markdown",
   "id": "3f96a710",
   "metadata": {},
   "source": [
    "# Test it"
   ]
  },
  {
   "cell_type": "code",
   "execution_count": 6,
   "id": "6d004619",
   "metadata": {
    "scrolled": false
   },
   "outputs": [
    {
     "data": {
      "application/vnd.jupyter.widget-view+json": {
       "model_id": "7d9603dd996a406cb723ebac68b6066c",
       "version_major": 2,
       "version_minor": 0
      },
      "text/plain": [
       "Batches:   0%|          | 0/1 [00:00<?, ?it/s]"
      ]
     },
     "metadata": {},
     "output_type": "display_data"
    },
    {
     "name": "stdout",
     "output_type": "stream",
     "text": [
      "\n",
      "##############################################################################\n",
      "# Match score: 0.5689518921587217\n",
      "AUTHENTICATION_TYPE (Required) - String - The authentication engine to use for credential authentication. Values: One of Database, LDAP, JWT, Keystone, OIDC Default: Database\n",
      "##############################################################################\n",
      "\n",
      "##############################################################################\n",
      "# Match score: 0.5685617067657014\n",
      " *  auth_kind: The type of auth used, including:  *  basic  *  oauth  *  credentials\n",
      " *  success: true or false\n",
      "##############################################################################\n",
      "\n",
      "##############################################################################\n",
      "# Match score: 0.5671045362909856\n",
      "AUTHENTICATION_TYPE: LDAP\n",
      "##############################################################################\n",
      "\n",
      "##############################################################################\n",
      "# Match score: 0.5587482573235683\n",
      "#### Authentication metrics\n",
      "##############################################################################\n",
      "\n",
      "##############################################################################\n",
      "# Match score: 0.5572349322635186\n",
      "AUTHENTICATION_TYPE (Required) - String - Must be set to LDAP\n",
      "##############################################################################\n",
      "\n",
      "##############################################################################\n",
      "# Match score: 0.5548779218341627\n",
      "### Internal authentication configuration\n",
      "##############################################################################\n",
      "\n",
      "##############################################################################\n",
      "# Match score: 0.5523553916406049\n",
      "LDAP_UID_ATTR - String - The uid attribute for LDAP authentication.\n",
      "##############################################################################\n",
      "\n",
      "##############################################################################\n",
      "# Match score: 0.5522597191121879\n",
      "The authentication metrics provide the number of authentication requests, labeled by type and whether it succeeded or not. For example, this metric could be used to monitor failed basic authentication requests.\n",
      "##############################################################################\n",
      "\n",
      "##############################################################################\n",
      "# Match score: 0.5522555970795285\n",
      "role optional - Role to use for the token - string\n",
      "##############################################################################\n",
      "\n",
      "##############################################################################\n",
      "# Match score: 0.5518911273046746\n",
      "### OAuth configuration fields\n",
      "##############################################################################\n"
     ]
    }
   ],
   "source": [
    "docs = retriever.retrieve(query=\"What values are supported for AUTHENTICATION_TYPE?\", top_k=10)\n",
    "for doc in docs:\n",
    "    print()\n",
    "    print(\"#\" * 78)\n",
    "    print(\"# Match score: {}\".format(doc.score))\n",
    "    print(doc.content)\n",
    "    print(\"#\" * 78)"
   ]
  },
  {
   "cell_type": "code",
   "execution_count": 7,
   "id": "b89c0720",
   "metadata": {},
   "outputs": [
    {
     "name": "stderr",
     "output_type": "stream",
     "text": [
      "/Users/obulatov/.local/share/ve-data/lib/python3.10/site-packages/torch/_utils.py:776: UserWarning: TypedStorage is deprecated. It will be removed in the future and UntypedStorage will be the only storage class. This should only matter to you if you are using storages directly.  To access UntypedStorage directly, use tensor.untyped_storage() instead of tensor.storage()\n",
      "  return self.fget.__get__(instance, owner)()\n"
     ]
    }
   ],
   "source": [
    "from haystack.nodes import FARMReader\n",
    "\n",
    "reader = FARMReader(model_name_or_path=\"deepset/roberta-base-squad2\")"
   ]
  },
  {
   "cell_type": "code",
   "execution_count": 8,
   "id": "31deeaad",
   "metadata": {},
   "outputs": [],
   "source": [
    "from haystack.pipelines import ExtractiveQAPipeline\n",
    "\n",
    "pipe = ExtractiveQAPipeline(reader, retriever)"
   ]
  },
  {
   "cell_type": "code",
   "execution_count": 9,
   "id": "6f0b4a3e",
   "metadata": {},
   "outputs": [
    {
     "data": {
      "application/vnd.jupyter.widget-view+json": {
       "model_id": "0516008cbfc64ac89db0101c57dd9931",
       "version_major": 2,
       "version_minor": 0
      },
      "text/plain": [
       "Batches:   0%|          | 0/1 [00:00<?, ?it/s]"
      ]
     },
     "metadata": {},
     "output_type": "display_data"
    },
    {
     "data": {
      "application/vnd.jupyter.widget-view+json": {
       "model_id": "9736197f272345cdbd00ffc57d2b0269",
       "version_major": 2,
       "version_minor": 0
      },
      "text/plain": [
       "Inferencing Samples:   0%|          | 0/1 [00:00<?, ? Batches/s]"
      ]
     },
     "metadata": {},
     "output_type": "display_data"
    },
    {
     "name": "stdout",
     "output_type": "stream",
     "text": [
      "\n",
      "Query: What authentication engines can be used?\n",
      "Answers:\n",
      "[   {   'answer': 'Database, LDAP, JWT, Keystone, OIDC',\n",
      "        'context': 'uired) - String - The authentication engine to use for '\n",
      "                   'credential authentication. Values: One of Database, LDAP, '\n",
      "                   'JWT, Keystone, OIDC Default: Database'},\n",
      "    {'answer': 'Google', 'context': '#### Google authentication'},\n",
      "    {   'answer': 'Hardware and KMS Signing',\n",
      "        'context': ' *  Hardware and KMS Signing\\n'\n",
      "                   ' *  Bring-your-own PKI\\n'\n",
      "                   ' *  OIDC PKI\\n'\n",
      "                   ' *  Built-in binary transparency and timestamping service'},\n",
      "    {'answer': 'Registry', 'context': '#### Registry authentication'},\n",
      "    {   'answer': 'External',\n",
      "        'context': '### External authentication (OAUTH) configuration'}]\n"
     ]
    }
   ],
   "source": [
    "from haystack.utils import print_answers\n",
    "\n",
    "prediction = pipe.run(\n",
    "    query=\"What authentication engines can be used?\",\n",
    "    params={\n",
    "        \"Retriever\": {\"top_k\": 10},\n",
    "        \"Reader\": {\"top_k\": 5}\n",
    "    }\n",
    ")\n",
    "\n",
    "print_answers(\n",
    "    prediction,\n",
    "    details=\"minimum\" ## Choose from `minimum`, `medium`, and `all`\n",
    ")"
   ]
  }
 ],
 "metadata": {
  "kernelspec": {
   "display_name": "Python 3 (ipykernel)",
   "language": "python",
   "name": "python3"
  },
  "language_info": {
   "codemirror_mode": {
    "name": "ipython",
    "version": 3
   },
   "file_extension": ".py",
   "mimetype": "text/x-python",
   "name": "python",
   "nbconvert_exporter": "python",
   "pygments_lexer": "ipython3",
   "version": "3.10.10"
  }
 },
 "nbformat": 4,
 "nbformat_minor": 5
}
